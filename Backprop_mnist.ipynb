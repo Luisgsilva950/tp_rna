{
 "cells": [
  {
   "cell_type": "markdown",
   "id": "pleased-recruitment",
   "metadata": {},
   "source": [
    "# Trabalho - Redes Neurais Artificiais\n",
    "\n",
    "## Método adotado: Backpropagation"
   ]
  },
  {
   "cell_type": "markdown",
   "id": "crude-clarity",
   "metadata": {},
   "source": [
    "### Rafael Maia e Luís Silva"
   ]
  },
  {
   "cell_type": "markdown",
   "id": "arranged-soundtrack",
   "metadata": {},
   "source": [
    "## Importação das bibliotecas necessárias"
   ]
  },
  {
   "cell_type": "code",
   "execution_count": 4,
   "id": "integral-valley",
   "metadata": {},
   "outputs": [],
   "source": [
    "import matplotlib.pyplot as plt\n",
    "from keras.datasets import mnist\n",
    "import numpy as np\n",
    "import operator"
   ]
  },
  {
   "cell_type": "markdown",
   "id": "flush-sydney",
   "metadata": {},
   "source": [
    "## Criação do modelo"
   ]
  },
  {
   "cell_type": "code",
   "execution_count": 5,
   "id": "variable-remark",
   "metadata": {},
   "outputs": [],
   "source": [
    "class BP_Model:\n",
    "    maxAcuracia = 0 \n",
    "    def __init__(self, tamEntrada, tamCamadaEscondida, tamSaida, rate=0.1):\n",
    "        self.dEntrada = tamEntrada\n",
    "        self.dCamadaEscondida = tamCamadaEscondida\n",
    "        self.dSaida = tamSaida\n",
    "        self.wInH = np.random.rand(self.dEntrada, self.dCamadaEscondida)*0.2-0.1\n",
    "        self.wOutH = np.random.rand(self.dCamadaEscondida, self.dSaida)*0.2-0.1\n",
    "        self.delta_InH = np.zeros(self.dCamadaEscondida)\n",
    "        self.delta_OutH = np.zeros(self.dSaida)\n",
    "        self.learning_rate = rate\n",
    "        self.custo = 0\n",
    "\n",
    "    def forward(self, sample):\n",
    "        ativCamadaOculta = self.tanh(np.dot(sample, self.wInH))\n",
    "        activCamadaSaida = self.sigmoid(np.dot(ativCamadaOculta, self.wOutH))\n",
    "        return ativCamadaOculta, activCamadaSaida\n",
    "\n",
    "    def auxAcao(self, x, y):\n",
    "        saida = self.forward(x)[1]\n",
    "        return np.sum((np.array(saida) - np.array(y))**2)*0.5, np.array(saida)-np.array(y)\n",
    "\n",
    "    def Acao(self, x, y):\n",
    "        val = 0.\n",
    "        vec = np.zeros(self.dSaida)\n",
    "        for i in range(len(x)):\n",
    "            temp = self.auxAcao(x[i],y[i])\n",
    "            val += temp[0]\n",
    "            vec += temp[1]\n",
    "        return val, vec\n",
    "\n",
    "    def auxBP(self, x, y):\n",
    "        custo, custo_vec = self.auxAcao(x, y)\n",
    "        activHidden, activSaida = self.forward(x)\n",
    "        deltaSaida = custo_vec * activSaida * (1-activSaida)\n",
    "        deltaH = np.dot(self.wOutH, deltaSaida) * (1-activHidden**2)\n",
    "        self.wOutH -= self.learning_rate*deltaSaida*activHidden[:,np.newaxis]\n",
    "        self.wInH -= self.learning_rate * deltaH * np.array(x)[:,np.newaxis]\n",
    "        return self.wOutH, self.wInH, custo\n",
    "\n",
    "    def BP(self, x, y):\n",
    "        self.custo = 0\n",
    "        tam = np.arange(len(x))\n",
    "        np.random.shuffle(tam)\n",
    "        for i in tam[:100]:\n",
    "            wOutH, wInH, cost = self.auxBP(x[i], y[i])\n",
    "            self.custo += cost\n",
    "        self.custo /= len(x)\n",
    "        return self.custo\n",
    "\n",
    "    def Treinamento(self, x, y, x_Teste, y_Teste, epoca=100, print_cost=True):\n",
    "        for i in range(epoca):\n",
    "            self.Teste(x_Teste, y_Teste, print_cost)\n",
    "            self.BP(x, y)\n",
    "            if print_cost:\n",
    "                print('Epoca: {}'.format(i+1))\n",
    "                print('Custo: {}'.format(self.custo))\n",
    "                print(\"/-----------------------------------------------/\")\n",
    "\n",
    "\n",
    "    def Teste(self, x, y,print_acuracia=True):\n",
    "        acuracia = 0\n",
    "        submission = open(\"submission.txt\",\"w\")\n",
    "        cont = 1\n",
    "        for i in range(len(x)):\n",
    "            saida = self.forward(x[i])[1]\n",
    "            index, _ = max(enumerate(saida), key = operator.itemgetter(1))\n",
    "            conteudo = \"\\n\"+str(cont)+\",\"+str(index)\n",
    "            submission.write(conteudo)\n",
    "            cont += 1\n",
    "            if y[i][index] == 1:\n",
    "                acuracia += 1 \n",
    "            if acuracia / len(x) > self.maxAcuracia:\n",
    "                self.maxAcuracia = acuracia / len(x)\n",
    "        if print_acuracia:\n",
    "            print('Acuracia: {}'.format(acuracia / len(x)))\n",
    "        \n",
    "    def MaxAcuracia(self):\n",
    "         print('Acuracia maxima: {}'.format(self.maxAcuracia))\n",
    "\n",
    "\n",
    "    @staticmethod\n",
    "    def sigmoid(x):\n",
    "        return 1/(1+np.exp(-x))\n",
    "\n",
    "    @staticmethod\n",
    "    def tanh(x):\n",
    "        return (1-np.exp(-2*x))/(1+np.exp(-2*x))"
   ]
  },
  {
   "cell_type": "markdown",
   "id": "marked-script",
   "metadata": {},
   "source": [
    "## Obtenção dos dados"
   ]
  },
  {
   "cell_type": "markdown",
   "id": "entire-scenario",
   "metadata": {},
   "source": [
    "<p>\n",
    "    Na descrição da atividade e dado como material para treinamento da rede neural, foi disponibilizado um arquivo 'dados.zip', onde iriamos conseguir as imagens para treinar a Rede Neural. Contudo, a biblioteca <b>keras</b> já possui as mesmas imagens disponibilizadas, assim, por questões de praticidade, resolvemos usá-la ao invés do .zip para treinamento e desenvolvimento do trabalho.\n",
    "</p>"
   ]
  },
  {
   "cell_type": "code",
   "execution_count": 3,
   "id": "honest-judgment",
   "metadata": {},
   "outputs": [],
   "source": [
    "(x_Treinamento, y_Treinamento), (x_Teste, y_Teste) = mnist.load_data()"
   ]
  },
  {
   "cell_type": "markdown",
   "id": "fleet-elizabeth",
   "metadata": {},
   "source": [
    "## Processamento"
   ]
  },
  {
   "cell_type": "code",
   "execution_count": 4,
   "id": "level-sydney",
   "metadata": {},
   "outputs": [],
   "source": [
    "x_Treinamento = x_Treinamento.reshape(60000, 784)\n",
    "x_Teste = x_Teste.reshape(10000, 784)\n",
    "\n",
    "numClasses = 10\n",
    "\n",
    "x_Treinamento = x_Treinamento.astype('float32')\n",
    "x_Teste = x_Teste.astype('float32')\n",
    "x_Treinamento /= 255\n",
    "x_Teste /= 255\n",
    "\n",
    "t_Treinamento = np.zeros((y_Treinamento.shape[0], numClasses))\n",
    "t_Treinamento[np.arange(y_Treinamento.shape[0]), y_Treinamento] = 1\n",
    "y_Treinamento = t_Treinamento\n",
    "\n",
    "t_Teste = np.zeros((y_Teste.shape[0], numClasses))\n",
    "t_Teste[np.arange(y_Teste.shape[0]), y_Teste] = 1\n",
    "y_Teste = t_Teste"
   ]
  },
  {
   "cell_type": "markdown",
   "id": "checked-bahamas",
   "metadata": {},
   "source": [
    "## Definição da camada escondida\n",
    "O número de neurônios em cada camada é uma questão mais empírica, não existindo regras explícitas para um cálculo ideal. Jeff Heaton, o autor de <b><i>Introduction to Neural Networks for Java</i></b>, sugere três abordagens iniciais, que vamos explicar como exemplo para uma rede contendo 30 neurônios na camada de entrada e 2 neurônios na camada de saída:\n",
    "\n",
    "* O número de neurônios escondidos deve estar entre o tamanho da camada de entrada e o da camada de saída. Usar o número médio entre as duas camadas é uma boa opção; ou seja, no nosso exemplo, o valor de (30+2)/2 = 16 neurônios.\n",
    "* O número de neurônios escondidos deve ser 2/3 do tamanho da camada de entrada, mais o tamanho da camada de saída. Assim, a camada escondida no nosso exemplo deve conter 30*2/3+2 = 22 neurônios.\n",
    "* O número de neurônios escondidos deve ser menor que o dobro do tamanho da camada de entrada. Ou seja, no nosso exemplo, a camada escondida deve conter menos que 60 neurônios.\n",
    "\n",
    "No nosso caso, o número de neurônios da camada escondida deve ser algo dentro de [397,532]."
   ]
  },
  {
   "cell_type": "code",
   "execution_count": 5,
   "id": "organizational-turtle",
   "metadata": {},
   "outputs": [],
   "source": [
    "N_HIDDEN_LAYER_MIN = 397\n",
    "N_HIDEN_LAYER_MAX = 532"
   ]
  },
  {
   "cell_type": "markdown",
   "id": "jewish-appearance",
   "metadata": {},
   "source": [
    "## Exibição dos resultados"
   ]
  },
  {
   "cell_type": "code",
   "execution_count": null,
   "id": "north-piece",
   "metadata": {},
   "outputs": [
    {
     "name": "stdout",
     "output_type": "stream",
     "text": [
      "Max acuracia for 397 nodes on hidden layer is 0.9047\n",
      "Max acuracia for 398 nodes on hidden layer is 0.9041\n",
      "Max acuracia for 399 nodes on hidden layer is 0.9063\n",
      "Max acuracia for 400 nodes on hidden layer is 0.906\n",
      "Max acuracia for 401 nodes on hidden layer is 0.9053\n",
      "Max acuracia for 402 nodes on hidden layer is 0.9054\n",
      "Max acuracia for 403 nodes on hidden layer is 0.9098\n",
      "Max acuracia for 404 nodes on hidden layer is 0.9054\n",
      "Max acuracia for 405 nodes on hidden layer is 0.9048\n",
      "Max acuracia for 406 nodes on hidden layer is 0.903\n",
      "Max acuracia for 407 nodes on hidden layer is 0.904\n",
      "Max acuracia for 408 nodes on hidden layer is 0.9056\n",
      "Max acuracia for 409 nodes on hidden layer is 0.9052\n",
      "Max acuracia for 410 nodes on hidden layer is 0.9055\n",
      "Max acuracia for 411 nodes on hidden layer is 0.9031\n",
      "Max acuracia for 412 nodes on hidden layer is 0.9063\n",
      "Max acuracia for 413 nodes on hidden layer is 0.9084\n",
      "Max acuracia for 414 nodes on hidden layer is 0.9085\n",
      "Max acuracia for 415 nodes on hidden layer is 0.9075\n",
      "Max acuracia for 416 nodes on hidden layer is 0.9026\n",
      "Max acuracia for 417 nodes on hidden layer is 0.9086\n",
      "Max acuracia for 418 nodes on hidden layer is 0.9045\n",
      "Max acuracia for 419 nodes on hidden layer is 0.9084\n",
      "Max acuracia for 420 nodes on hidden layer is 0.9089\n",
      "Max acuracia for 421 nodes on hidden layer is 0.9094\n",
      "Max acuracia for 422 nodes on hidden layer is 0.9081\n",
      "Max acuracia for 423 nodes on hidden layer is 0.8996\n",
      "Max acuracia for 424 nodes on hidden layer is 0.9047\n",
      "Max acuracia for 425 nodes on hidden layer is 0.9056\n",
      "Max acuracia for 426 nodes on hidden layer is 0.9038\n",
      "Max acuracia for 427 nodes on hidden layer is 0.9037\n",
      "Max acuracia for 428 nodes on hidden layer is 0.9004\n",
      "Max acuracia for 429 nodes on hidden layer is 0.905\n",
      "Max acuracia for 430 nodes on hidden layer is 0.9011\n",
      "Max acuracia for 431 nodes on hidden layer is 0.9001\n",
      "Max acuracia for 432 nodes on hidden layer is 0.9082\n",
      "Max acuracia for 433 nodes on hidden layer is 0.9097\n",
      "Max acuracia for 434 nodes on hidden layer is 0.9043\n",
      "Max acuracia for 435 nodes on hidden layer is 0.9044\n",
      "Max acuracia for 436 nodes on hidden layer is 0.9058\n",
      "Max acuracia for 437 nodes on hidden layer is 0.9072\n",
      "Max acuracia for 438 nodes on hidden layer is 0.9062\n",
      "Max acuracia for 439 nodes on hidden layer is 0.9056\n",
      "Max acuracia for 440 nodes on hidden layer is 0.9054\n",
      "Max acuracia for 441 nodes on hidden layer is 0.9065\n",
      "Max acuracia for 442 nodes on hidden layer is 0.8976\n",
      "Max acuracia for 443 nodes on hidden layer is 0.9081\n",
      "Max acuracia for 444 nodes on hidden layer is 0.9019\n",
      "Max acuracia for 445 nodes on hidden layer is 0.9031\n",
      "Max acuracia for 446 nodes on hidden layer is 0.9018\n",
      "Max acuracia for 447 nodes on hidden layer is 0.9006\n",
      "Max acuracia for 448 nodes on hidden layer is 0.9048\n",
      "Max acuracia for 449 nodes on hidden layer is 0.9022\n",
      "Max acuracia for 450 nodes on hidden layer is 0.8999\n",
      "Max acuracia for 451 nodes on hidden layer is 0.9085\n",
      "Max acuracia for 452 nodes on hidden layer is 0.9034\n",
      "Max acuracia for 453 nodes on hidden layer is 0.9069\n",
      "Max acuracia for 454 nodes on hidden layer is 0.9052\n",
      "Max acuracia for 455 nodes on hidden layer is 0.9039\n",
      "Max acuracia for 456 nodes on hidden layer is 0.9052\n",
      "Max acuracia for 457 nodes on hidden layer is 0.903\n",
      "Max acuracia for 458 nodes on hidden layer is 0.9005\n",
      "Max acuracia for 459 nodes on hidden layer is 0.9008\n",
      "Max acuracia for 460 nodes on hidden layer is 0.905\n",
      "Max acuracia for 461 nodes on hidden layer is 0.9082\n",
      "Max acuracia for 462 nodes on hidden layer is 0.9032\n",
      "Max acuracia for 463 nodes on hidden layer is 0.9006\n",
      "Max acuracia for 464 nodes on hidden layer is 0.9056\n",
      "Max acuracia for 465 nodes on hidden layer is 0.8993\n",
      "Max acuracia for 466 nodes on hidden layer is 0.9073\n",
      "Max acuracia for 467 nodes on hidden layer is 0.904\n",
      "Max acuracia for 468 nodes on hidden layer is 0.9025\n",
      "Max acuracia for 469 nodes on hidden layer is 0.8991\n",
      "Max acuracia for 470 nodes on hidden layer is 0.9046\n",
      "Max acuracia for 471 nodes on hidden layer is 0.908\n"
     ]
    }
   ],
   "source": [
    "best_hidden_layer = {\"n\": 0, \"acuracia\": 0}\n",
    "for n_hidden_layer in range(N_HIDDEN_LAYER_MIN,N_HIDEN_LAYER_MAX, 1):\n",
    "    rna = BP_Model(784, n_hidden_layer, numClasses)\n",
    "    if rna.maxAcuracia > best_hidden_layer[\"acuracia\"]:\n",
    "        best_hidden_layer = {\"n\": n_hidden_layer, \"acuracia\": rna.maxAcuracia}\n",
    "    rna.Treinamento(x_Treinamento, y_Treinamento, x_Teste, y_Teste, print_cost=False)\n",
    "    print(f\"Max acuracia for {n_hidden_layer} nodes on hidden layer is {rna.maxAcuracia}\")\n",
    "print(f\"Hidden Layer with best acuracia {str(best_hidden_layer)}\")"
   ]
  },
  {
   "cell_type": "code",
   "execution_count": null,
   "id": "qualified-asian",
   "metadata": {},
   "outputs": [],
   "source": []
  }
 ],
 "metadata": {
  "kernelspec": {
   "display_name": "Python 3",
   "language": "python",
   "name": "python3"
  },
  "language_info": {
   "codemirror_mode": {
    "name": "ipython",
    "version": 3
   },
   "file_extension": ".py",
   "mimetype": "text/x-python",
   "name": "python",
   "nbconvert_exporter": "python",
   "pygments_lexer": "ipython3",
   "version": "3.7.0"
  }
 },
 "nbformat": 4,
 "nbformat_minor": 5
}
